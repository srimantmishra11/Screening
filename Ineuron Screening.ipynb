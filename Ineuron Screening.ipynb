{
 "cells": [
  {
   "cell_type": "markdown",
   "id": "f7598bd9",
   "metadata": {},
   "source": [
    "Q1. Create a function in python to read the text file and replace specific content\n",
    "of the file."
   ]
  },
  {
   "cell_type": "markdown",
   "id": "7f65ec0d",
   "metadata": {},
   "source": [
    "Here I have created a new file i.e. examples.txt in my local machine which have the string \"This is a placement assignment\""
   ]
  },
  {
   "cell_type": "code",
   "execution_count": 1,
   "id": "12dccc55",
   "metadata": {},
   "outputs": [],
   "source": [
    "try:\n",
    "    f = open(\"example.txt\",\"w\")\n",
    "except Exception as e:\n",
    "    print(\"Please enter a valid file or mode before creating because this is an error \",e)\n",
    "else:\n",
    "    f.write(\"This is a placement assignment\")\n",
    "    f.close()\n",
    "#finally:\n",
    "#    print(\"Thank you!\")"
   ]
  },
  {
   "cell_type": "markdown",
   "id": "e40537b5",
   "metadata": {},
   "source": [
    "Here I have created a function inside a class which would replace the string with the new string we want. In this case I have opened the example.txt again and replaced the word \"placement\" with \"screening\" using replace method."
   ]
  },
  {
   "cell_type": "code",
   "execution_count": 2,
   "id": "e724d9c3",
   "metadata": {},
   "outputs": [],
   "source": [
    "import logging\n",
    "logging.basicConfig(filename=\"FileHandling.log\", level=logging.DEBUG, format='%(asctime)s %(levelname)s %(message)s')\n",
    "class ReplaceString():\n",
    "    def __init__(self):\n",
    "        logging.info(\"...New object initiated...\")\n",
    "        pass\n",
    "    def replace_string_in_a_file(self):\n",
    "        filename=input(\"Enter the file name in which string to be replaced: \")\n",
    "        old = input(\"Enter a string which is to be replaced: \")\n",
    "        new = input(\"Enter a string that is going to replace old one: \")\n",
    "        try:\n",
    "            f = open(filename,\"r+\")\n",
    "        except Exception as e:\n",
    "            logging.exception(f\"This is Exception during opening a file. Error: {e}\")\n",
    "            print(\"Please enter a valid File, Thank you!\")\n",
    "        else:\n",
    "            lines = f.readlines()\n",
    "            count = 0\n",
    "            for i in lines:\n",
    "                for x in i:\n",
    "                    new_string = i.replace(old,new)\n",
    "                    lines = new_string\n",
    "                count+=1\n",
    "            \n",
    "            try:\n",
    "                f.truncate(0)\n",
    "                f.writelines(new_string)\n",
    "            except Exception as e:\n",
    "                logging.exception(f\"This is Exception during writing a file. Error: {e}\")\n",
    "            else:\n",
    "                logging.info(f\"string has been updated in the file\")\n",
    "            finally:\n",
    "                f.close()"
   ]
  },
  {
   "cell_type": "code",
   "execution_count": 3,
   "id": "b3748636",
   "metadata": {},
   "outputs": [],
   "source": [
    "StringinFile=ReplaceString()"
   ]
  },
  {
   "cell_type": "code",
   "execution_count": 4,
   "id": "633f17f1",
   "metadata": {},
   "outputs": [
    {
     "name": "stdout",
     "output_type": "stream",
     "text": [
      "Enter the file name in which string to be replaced: example.txt\n",
      "Enter a string which is to be replaced: placement\n",
      "Enter a string that is going to replace old one: screening\n"
     ]
    }
   ],
   "source": [
    "StringinFile.replace_string_in_a_file()"
   ]
  },
  {
   "cell_type": "code",
   "execution_count": 5,
   "id": "4d99f226",
   "metadata": {},
   "outputs": [
    {
     "name": "stdout",
     "output_type": "stream",
     "text": [
      "\u0000\u0000\u0000\u0000\u0000\u0000\u0000\u0000\u0000\u0000\u0000\u0000\u0000\u0000\u0000\u0000\u0000\u0000\u0000\u0000\u0000\u0000\u0000\u0000\u0000\u0000\u0000\u0000\u0000\u0000This is a screening assignment\n"
     ]
    }
   ],
   "source": [
    "try:\n",
    "    f=open('example.txt','r')\n",
    "except Exception as e:\n",
    "    print(\"This is an error\",e)\n",
    "else:\n",
    "    print(f.read())\n",
    "    f.close()\n",
    "#finally:\n",
    "    #print(\"Thank you!\")"
   ]
  },
  {
   "cell_type": "markdown",
   "id": "1249cbe3",
   "metadata": {},
   "source": [
    "Q2. Demonstrate use of abstract class, multiple inheritance and decorator in\n",
    "python using examples."
   ]
  },
  {
   "cell_type": "markdown",
   "id": "37befd3e",
   "metadata": {},
   "source": [
    "Abstract class: i. In Python, abstract base classes provide a blueprint for concrete classes. They don’t contain implementation. Instead, they provide an interface and make sure that derived concrete classes are properly implemented.\n",
    "\n",
    "ii. Abstract base classes cannot be instantiated. Instead, they are inherited and extended by the concrete subclasses.\n",
    "\n",
    "iii. Subclasses derived from a specific abstract base class must implement the methods and properties provided in that abstract base class. Otherwise, an error is raised during the object instantiation.\n",
    "\n",
    "Please find the below program which has used abstract class with abstract methods using abstractmethod decorator."
   ]
  },
  {
   "cell_type": "code",
   "execution_count": 6,
   "id": "c307009a",
   "metadata": {},
   "outputs": [],
   "source": [
    "import logging\n",
    "logging.basicConfig(filename=\"AbstractDemonstration.log\", level=logging.DEBUG, format='%(asctime)s %(levelname)s %(message)s')\n",
    "from abc import ABC,abstractmethod\n",
    "# abc is a builtin module, we have to import ABC and abstractmethod\n",
    "\n",
    "class Salary(ABC): # Inherit from ABC(Abstract base class)\n",
    "    @abstractmethod # Decorator to define an abstract method trees\n",
    "    def Employee(self):\n",
    "        logging.info(\"...Abstract method Employees have been initiated...\")\n",
    "        pass\n",
    "    @abstractmethod # Decorator to define an abstract method animals\n",
    "    def Avg_Monthly_Salary(self):\n",
    "        logging.info(\"...Abstract method Monthly Salary method have been initiated...\")\n",
    "        pass\n",
    "class SalaryInfo(Salary): \n",
    "    \n",
    "    def __init__(self,employee_name,cumulative_sal_amount,experience_in_month): #This class is directly derived from abstract class(Environment)\n",
    "    #If you inherit from the Environment class but don't implement the abstract methods, you'll get an error\n",
    "        logging.info(\"... Executing Child class ...\")\n",
    "        self.name=employee_name\n",
    "        self.amount=cumulative_sal_amount\n",
    "        self.experience=experience_in_month\n",
    "    def Employee(self):\n",
    "        logging.info(\"... Executing Employee method ...\")\n",
    "        print(\"name of the Employee: \",self.name)\n",
    "        print(\"Cumulative Salary:\",self.amount)\n",
    "        print(\"Experience in months\",self.experience)\n",
    "    def Avg_Monthly_Salary(self):\n",
    "        logging.info(\"... Calculating avg monthly salary...\")\n",
    "        try:\n",
    "            monthly_salary=self.amount/self.experience\n",
    "        except Exception as e:\n",
    "            logging.exception(f\"This is Exception during calculating salary. Error: {e}\")\n",
    "        else:\n",
    "            return monthly_salary"
   ]
  },
  {
   "cell_type": "code",
   "execution_count": 7,
   "id": "7a109f6a",
   "metadata": {},
   "outputs": [],
   "source": [
    "S1= SalaryInfo(\"Naman Agrawal\",12220,10)"
   ]
  },
  {
   "cell_type": "code",
   "execution_count": 8,
   "id": "be6fe4b4",
   "metadata": {},
   "outputs": [
    {
     "data": {
      "text/plain": [
       "1222.0"
      ]
     },
     "execution_count": 8,
     "metadata": {},
     "output_type": "execute_result"
    }
   ],
   "source": [
    "S1.Avg_Monthly_Salary()"
   ]
  },
  {
   "cell_type": "code",
   "execution_count": 9,
   "id": "eacde026",
   "metadata": {},
   "outputs": [
    {
     "name": "stdout",
     "output_type": "stream",
     "text": [
      "name of the Employee:  Naman Agrawal\n",
      "Cumulative Salary: 12220\n",
      "Experience in months 10\n"
     ]
    }
   ],
   "source": [
    "S1.Employee()"
   ]
  },
  {
   "cell_type": "markdown",
   "id": "2e2b1b50",
   "metadata": {},
   "source": [
    "MULTIPLE INHERITANCE"
   ]
  },
  {
   "cell_type": "markdown",
   "id": "b7e7f75f",
   "metadata": {},
   "source": [
    "I. Multiple Inheritance is a feature where a class can derive attributes and methods from more than one base classes.\n",
    "\n",
    "II. The syntax for Multiple Inheritance is also similar to the single inheritance. By the way, in Multiple Inheritance, the child class claims the properties and methods of all the parent classes."
   ]
  },
  {
   "cell_type": "code",
   "execution_count": 10,
   "id": "56e5c0c9",
   "metadata": {},
   "outputs": [],
   "source": [
    "import logging\n",
    "logging.basicConfig(filename=\"MultipleInheritanceDemonstration.log\", level=logging.DEBUG, format='%(asctime)s %(levelname)s %(message)s')\n",
    "class Vehicle_Bike:\n",
    "\n",
    "    def __init__(self, Vehicle1Name, Vehicle1ID, Factory_location1):\n",
    "        logging.info(\"... Vehicle Bike Instantiated ...\")\n",
    "        self.name = Vehicle1Name\n",
    "        self.ID = Vehicle1ID\n",
    "        self.location = Factory_location1\n",
    "        \n",
    "    def DisplayBikeDetails(self):\n",
    "        logging.info(\"... This will display Bike details ...\")\n",
    "        print(\"\\nVehicle Name:\", self.name)\n",
    "        print(\"Vehicle ID:\", self.ID)\n",
    "        print(\"fACTORY City:\", self.location)\n",
    "\n",
    "        \n",
    "# defining another class\n",
    "class Vehicle_Car:\n",
    "    \n",
    "    \n",
    "    \n",
    "    def __init__(self, Vehicle2Name, Vehicle2ID, Price):\n",
    "        logging.info(\"... Vehicle Car Instantiated ...\")\n",
    "        self.VehicleID = Vehicle2ID\n",
    "        self.Name = Vehicle2Name\n",
    "        self.Price = Price\n",
    "  \n",
    "    def DisplayCarData(self):\n",
    "        logging.info(\"... This will display Car details and returns nothing...\")\n",
    "        print(\"Car ID:\", self.VehicleID)\n",
    "        print(\"Car Name:\", self.Name)\n",
    "        print(\"Car Amount:\", self.Price)\n",
    "        \n",
    "        \n",
    "class Discount_rate(Vehicle_Bike, Vehicle_Car): #MULTIPLE INHERITANCE\n",
    "    \n",
    "    def __init__(self, Vehicle1Name, Vehicle1ID, Factory_location1, Vehicle2Name, Vehicle2ID, Price):\n",
    "        logging.info(\"... Subclass Discount_rate Instantiated ...\")\n",
    "        Vehicle_Bike.__init__(self, Vehicle1Name, Vehicle1ID, Factory_location1)\n",
    "        Vehicle_Car.__init__(self, Vehicle2Name, Vehicle2ID, Price)\n",
    "        \n",
    "        \n",
    "    def Amount_in_Discount(self):\n",
    "        try:\n",
    "            print(\"Car Discounted Rate: \", (self.Price-(self.Price * 10 / 100) ))\n",
    "        except Exception as err:\n",
    "            logging.exception(f\"This is Exception during calculating discount. Error: {e}\")"
   ]
  },
  {
   "cell_type": "code",
   "execution_count": 11,
   "id": "ac4986a0",
   "metadata": {},
   "outputs": [],
   "source": [
    "A1=Discount_rate('Revolt', 766655, 'Hyderabad', 'Hundai', 998876, 120000)"
   ]
  },
  {
   "cell_type": "code",
   "execution_count": 12,
   "id": "c98a54b7",
   "metadata": {},
   "outputs": [
    {
     "name": "stdout",
     "output_type": "stream",
     "text": [
      "\n",
      "Vehicle Name: Revolt\n",
      "Vehicle ID: 766655\n",
      "fACTORY City: Hyderabad\n"
     ]
    }
   ],
   "source": [
    "A1.DisplayBikeDetails()"
   ]
  },
  {
   "cell_type": "code",
   "execution_count": 13,
   "id": "91f42b62",
   "metadata": {},
   "outputs": [
    {
     "name": "stdout",
     "output_type": "stream",
     "text": [
      "Car ID: 998876\n",
      "Car Name: Hundai\n",
      "Car Amount: 120000\n"
     ]
    }
   ],
   "source": [
    "A1.DisplayCarData()"
   ]
  },
  {
   "cell_type": "code",
   "execution_count": 14,
   "id": "a47fd493",
   "metadata": {},
   "outputs": [
    {
     "name": "stdout",
     "output_type": "stream",
     "text": [
      "Car Discounted Rate:  108000.0\n"
     ]
    }
   ],
   "source": [
    "A1.Amount_in_Discount()"
   ]
  },
  {
   "cell_type": "markdown",
   "id": "451a79b6",
   "metadata": {},
   "source": [
    "DECORATOR"
   ]
  },
  {
   "cell_type": "markdown",
   "id": "5cd72ae3",
   "metadata": {},
   "source": [
    "1. A decorator is a design pattern in Python that allows a user to add new functionality to an existing object without modifying its structure. \n",
    "\n",
    "2. Decorators are usually called before the definition of a function you want to decorate.Basiclly in Decorators, functions are passed as an argument into another function and then called inside the wrapper function.\n",
    "\n",
    "3. Please find the beloww code where I have taken property decorator"
   ]
  },
  {
   "cell_type": "code",
   "execution_count": 15,
   "id": "8f3738ea",
   "metadata": {},
   "outputs": [],
   "source": [
    "import logging\n",
    "logging.basicConfig(filename=\"DecoratorDemonstration.log\", level=logging.DEBUG, format='%(asctime)s %(levelname)s %(message)s')\n",
    "class Student:  \n",
    "    def __init__(self,name,age,standard,gender,marks):  \n",
    "        logging.info(\"... Student class Instantiated...\")\n",
    "        self.name=name\n",
    "        self.age=age\n",
    "        self.standard=standard\n",
    "        self.gender=gender\n",
    "        self.marks=marks\n",
    "    @property\n",
    "    def decorator_example(self): \n",
    "        '''\n",
    "        Declares the method as a property.\n",
    "        '''\n",
    "        logging.info(\"... property decorator implemented...\")\n",
    "        return \"student name: {0} \\nstudent age: {1} \\nstudent standard: {2} \\nstudent gender: {3} \\nstudent mark: {4}\".format(self.name,self.age,self.standard,self.gender,self.marks)\n",
    "    @property\n",
    "    def calc_percentage(self):\n",
    "        try:\n",
    "            return (self.marks/600)*100\n",
    "        except Exception as e:\n",
    "            logging.exception(f\"This is an Exception during calculating percentage . Error: {e}\")"
   ]
  },
  {
   "cell_type": "code",
   "execution_count": 16,
   "id": "649bb00c",
   "metadata": {},
   "outputs": [
    {
     "name": "stdout",
     "output_type": "stream",
     "text": [
      "student name: Srimanta \n",
      "student age: 23 \n",
      "student standard: 8th \n",
      "student gender: male \n",
      "student mark: 456\n",
      "76.0\n"
     ]
    }
   ],
   "source": [
    "S1=Student(\"Srimanta\",23,\"8th\",\"male\",456)       \n",
    "print(S1.decorator_example)\n",
    "print(S1.calc_percentage)"
   ]
  },
  {
   "cell_type": "code",
   "execution_count": null,
   "id": "bebe9b72",
   "metadata": {},
   "outputs": [],
   "source": []
  }
 ],
 "metadata": {
  "kernelspec": {
   "display_name": "Python 3 (ipykernel)",
   "language": "python",
   "name": "python3"
  },
  "language_info": {
   "codemirror_mode": {
    "name": "ipython",
    "version": 3
   },
   "file_extension": ".py",
   "mimetype": "text/x-python",
   "name": "python",
   "nbconvert_exporter": "python",
   "pygments_lexer": "ipython3",
   "version": "3.9.7"
  }
 },
 "nbformat": 4,
 "nbformat_minor": 5
}
